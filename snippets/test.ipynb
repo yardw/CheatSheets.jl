{
 "cells": [
  {
   "cell_type": "markdown",
   "metadata": {},
   "source": [
    "# Layer: Base"
   ]
  },
  {
   "cell_type": "markdown",
   "metadata": {},
   "source": [
    "## @> macro from Lazy.jl\n",
    "这段代码定义了一个名为 `@>` 的宏，这是一个线程宏，类似于 Julia 中的 `|>` 操作符，但更具灵活性。它允许你以一种流畅的方式将函数调用链接在一起，而不需要嵌套它们。例如，`@> x f` 等同于 `f(x)`，`@> x g f` 等同于 `f(g(x))`，以此类推。\n",
    "\n",
    "这个宏的定义包含了几个函数：\n",
    "\n",
    "- `thread(x)`：如果 `x` 是一个块表达式，那么它会移除所有的行并对结果进行线程处理；否则，它只是返回 `x`。\n",
    "- `thread(x, ex)`：这个函数根据 `ex` 的类型来决定如何处理 `x`。如果 `ex` 是一个宏调用，那么它会将 `x` 插入到 `ex` 的参数中；如果 `ex` 是一个函数调用，那么它会将 `x` 作为第一个参数插入到 `ex` 的参数中；如果 `ex` 是一个广播调用，那么它会将 `x` 插入到 `ex` 的参数中；如果 `ex` 是一个块表达式，那么它会移除所有的行并对结果进行线程处理；否则，它会创建一个新的函数调用，其中 `ex` 是函数，`x` 是参数。\n",
    "- `thread(x, exs...)`：这个函数使用 `reduce` 函数将 `thread` 函数应用到 `exs` 的所有元素上，其中 `x` 是初始值。\n",
    "\n",
    "最后，这个宏使用 `esc` 函数来转义结果，这样在宏展开后，结果不会被误解为在宏定义的上下文中，而是在宏调用的上下文中。\n",
    "\n",
    "需要注意的是，这个宏在 Julia 0.7 以下的版本中不可用，如果在这些版本中尝试使用它，会抛出一个错误。"
   ]
  },
  {
   "cell_type": "code",
   "execution_count": 7,
   "metadata": {},
   "outputs": [
    {
     "data": {
      "text/plain": [
       "@>"
      ]
     },
     "metadata": {},
     "output_type": "display_data"
    }
   ],
   "source": [
    "import MacroTools: @capture, rmlines, isexpr\n",
    "\"\"\"\n",
    "The threading macro is like a more flexible version of the [`|>`](@ref) operator.\n",
    "\n",
    "    @> x f = f(x)\n",
    "    @> x g f == f(g(x))\n",
    "    @> x a b c d e == e(d(c(b(a(x)))))\n",
    "\n",
    "Unlike [`|>`](@ref), functions can have arguments - the value\n",
    "preceding a function will be treated as its first argument\n",
    "\n",
    "    @> x g(y, z) f == f(g(x, y, z))\n",
    "\n",
    "    @> x g f(y, z) == f(g(x), y, z)\n",
    "\n",
    "See Lazy.jl.\n",
    "\n",
    "\"\"\"\n",
    "macro >(exs...)\n",
    "    thread(x) = isexpr(x, :block) ? thread(rmlines(x).args...) : x\n",
    "  \n",
    "    @static if VERSION < v\"0.7\"\n",
    "  \n",
    "      @error \"The threading macro `@>` is not supported on Julia versions < 0.7\"\n",
    "  \n",
    "    else\n",
    "  \n",
    "      thread(x, ex) =\n",
    "      isexpr(ex, :macrocall)        ? Expr(ex.head, ex.args[1], ex.args[2], x, ex.args[3:end]...) :\n",
    "      isexpr(ex, :call,)            ? Expr(ex.head, ex.args[1], x, ex.args[2:end]...) :\n",
    "      @capture(ex, f_.(xs__))       ? :($f.($x, $(xs...))) :\n",
    "      isexpr(ex, :block)            ? thread(x, rmlines(ex).args...) :\n",
    "      Expr(:call, ex, x)\n",
    "  \n",
    "    end\n",
    "  \n",
    "    thread(x, exs...) = reduce(thread, exs, init=x)\n",
    "  \n",
    "    esc(thread(exs...))\n",
    "end\n",
    "  "
   ]
  },
  {
   "cell_type": "markdown",
   "metadata": {},
   "source": [
    "# Layer: Logic\n"
   ]
  },
  {
   "cell_type": "markdown",
   "metadata": {},
   "source": [
    "# Layer: Application\n"
   ]
  },
  {
   "cell_type": "markdown",
   "metadata": {},
   "source": [
    "# Layer: Test"
   ]
  },
  {
   "cell_type": "code",
   "execution_count": 8,
   "metadata": {},
   "outputs": [
    {
     "name": "stdout",
     "output_type": "stream",
     "text": [
      "\u001b[0m\u001b[1mTest Summary:    | \u001b[22m\u001b[32m\u001b[1mPass  \u001b[22m\u001b[39m\u001b[36m\u001b[1mTotal  \u001b[22m\u001b[39m\u001b[0m\u001b[1mTime\u001b[22m\n",
      "my @> marco test | \u001b[32m   1  \u001b[39m\u001b[36m    1  \u001b[39m\u001b[0m0.0s\n"
     ]
    },
    {
     "data": {
      "text/plain": [
       "Test.DefaultTestSet(\"my @> marco test\", Any[], 1, false, false, true, 1.7041688080536e9, 1.704168808053664e9)"
      ]
     },
     "metadata": {},
     "output_type": "display_data"
    }
   ],
   "source": [
    "using Test\n",
    "@testset \"my @> marco test\" begin\n",
    "    @test 2 == @> 1 +(1)\n",
    "end"
   ]
  }
 ],
 "metadata": {
  "kernelspec": {
   "display_name": "Julia 1.8.2",
   "language": "julia",
   "name": "julia-1.8"
  },
  "language_info": {
   "file_extension": ".jl",
   "mimetype": "application/julia",
   "name": "julia",
   "version": "1.8.2"
  }
 },
 "nbformat": 4,
 "nbformat_minor": 2
}
