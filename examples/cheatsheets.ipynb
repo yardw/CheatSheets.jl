{
 "cells": [
  {
   "cell_type": "markdown",
   "metadata": {},
   "source": [
    "# 概念与引用\n",
    "- [语法参考](https://cheatsheet.juliadocs.org/zh-cn/)\n",
    "- [进阶特性](https://learn.juliacn.com/docs/meta/index.html)"
   ]
  },
  {
   "cell_type": "markdown",
   "metadata": {},
   "source": [
    "# 性能释放\n"
   ]
  },
  {
   "cell_type": "markdown",
   "metadata": {},
   "source": [
    "## 类型推导（type inference）\n",
    "- 具体类型才能优化编译\n"
   ]
  },
  {
   "cell_type": "markdown",
   "metadata": {},
   "source": [
    "## 函数屏障（function barrier）\n",
    "- 将循环体封装成小的屏障函数，可帮助编译器进行优化以提高性能\n"
   ]
  },
  {
   "cell_type": "markdown",
   "metadata": {},
   "source": [
    "## 内存分配\n",
    "- `sizehint!`函数可提前分配内存\n"
   ]
  },
  {
   "cell_type": "markdown",
   "metadata": {},
   "source": [
    "## 避免使用关键字参数的 splat 操作符(...)"
   ]
  },
  {
   "cell_type": "markdown",
   "metadata": {},
   "source": [
    "# 语法\n"
   ]
  },
  {
   "cell_type": "markdown",
   "metadata": {},
   "source": [
    "## 作用域\n"
   ]
  },
  {
   "cell_type": "markdown",
   "metadata": {},
   "source": [
    "## 表达式、宏与元编程\n"
   ]
  },
  {
   "cell_type": "markdown",
   "metadata": {},
   "source": [
    "## 缺失值\n",
    "- 空值(Null)\t`nothing`\n",
    "- 缺失数据\t`missing`\n",
    "- 浮点数的非数值\t`NaN`\n",
    "- 滤除缺失值\t`collect(skipmissing([1, 2, missing])) == [1,2]`\n",
    "- 替换缺失值\t`collect((df[:col], 1))`\n",
    "- 检查是否有缺失值\t`ismissing(x)` 而不是 `x == missing`\n"
   ]
  },
  {
   "cell_type": "markdown",
   "metadata": {},
   "source": [
    "## 注释与文档\n",
    "`#...`\n",
    ":   单行注释\n",
    "\n",
    "`#=...=#`\n",
    ":   多行注释\n",
    "\n",
    "文档\n",
    ":\"\"\"\n",
    "    function_name(args...)\n",
    "\n",
    "description\n",
    "\n",
    "\\# Arguments\n",
    "\n",
    "\\- `args...`:\n",
    "\n",
    "\\# Examples(jldoctest)\n",
    "\n",
    "```jldoctest\n",
    "julia> function_name(args...)\n",
    "```\n",
    "\"\"\""
   ]
  },
  {
   "cell_type": "markdown",
   "metadata": {},
   "source": [
    "## LaTeX与UTF-8名称"
   ]
  },
  {
   "cell_type": "markdown",
   "metadata": {},
   "source": [
    "# 运算符\n"
   ]
  },
  {
   "cell_type": "markdown",
   "metadata": {},
   "source": [
    "## 中缀（infix）、前缀（prefix）与后缀（postfix）\n",
    "- 上述特殊运算符仅能定义、重载在Julia保留的特定符号上，不能定义在一般函数上。\n"
   ]
  },
  {
   "cell_type": "markdown",
   "metadata": {},
   "source": [
    "## 短路表达式（short-circuit expression）\n"
   ]
  },
  {
   "cell_type": "markdown",
   "metadata": {},
   "source": [
    "### 责任链（chain of responsibility）\n"
   ]
  },
  {
   "cell_type": "markdown",
   "metadata": {},
   "source": [
    "### 条件屏障（condition barrier）\n"
   ]
  },
  {
   "cell_type": "markdown",
   "metadata": {},
   "source": [
    "## 三元运算符（ternary operator）及其级联（cascading）\n"
   ]
  },
  {
   "cell_type": "markdown",
   "metadata": {},
   "source": [
    "## 反向除法（backslash division）\n"
   ]
  },
  {
   "cell_type": "markdown",
   "metadata": {},
   "source": [
    "# 控制流\n",
    "<!-- ## 条件（if-elseif-else） -->\n",
    "## 嵌套（nested）循环\n",
    "```julia\n",
    "julia>  x = for i in 1:2, j in 1:2\n",
    "            println((i, j))\n",
    "            i=0\n",
    "            j=0\n",
    "        end\n",
    "(1, 1)\n",
    "(1, 2)\n",
    "(2, 1)\n",
    "(2, 2)\n",
    "nothing\n",
    "```\n",
    "- `for`循环的返回值是`nothing`，因此不能赋值给变量。\n",
    "- `for`循环迭代最后赋值循环变量会被覆盖。\n"
   ]
  },
  {
   "cell_type": "markdown",
   "metadata": {},
   "source": [
    "## 枚举（enumerate）、索引（eachindex）与迭代（iterator、next）\n",
    "## 异常（exception）\n"
   ]
  },
  {
   "cell_type": "markdown",
   "metadata": {},
   "source": [
    "# 函数\n",
    "## 函数定义\n",
    "- function关键字定义、参数表定义与匿名定义\n",
    "- 函数可以作为参数传递给其他函数。\n",
    "- 显式指定返回类型\n",
    "- 函数可以作为返回值返回。这意味着函数是高阶函数（higher-order function）。\n",
    "## 副作用（side effect）\n",
    "### 传值（pass by value）与传址（pass by reference）\n",
    "## 函数参数\n",
    "### 可变参数（varargs）\n",
    "### 关键字参数（keyword argument）与具名元组（named tuple）\n",
    "- 可变关键字参数遵从右覆盖（right overriding）\n",
    "- 关键字参数可以不需要默认值。\n",
    "- 调用函数时，关键字参数前可以不需要分号。\n",
    "## 分派（dispatch）\n",
    "## 闭包（closure）\n",
    "## 接口设计（interface design）\n",
    "- 正确性\n",
    "    - 功能覆盖完整\n",
    "    - 参数验证\n",
    "        - 适配子类型(符合子类型调用规则)\n",
    "        - 参数类型\n",
    "        - 参数个数\n",
    "        - 参数顺序\n",
    "        - 参数名称\n",
    "        - 返回值类型\n",
    "        - 返回值个数\n",
    "        - 返回值顺序\n",
    "        - 返回值名称\n",
    "        - 返回值是否可变\n",
    "        - 返回值是否可变长\n",
    "        - 返回值是否可选\n",
    "        - 返回值是否可空\n",
    "        - 返回值是否可缺省\n",
    "        - 返回值是否可重载\n",
    "        - 仅传入必要的正确参数\n",
    "        - 传入全部正确参数\n",
    "        - 传入必要+部份可选参数\n",
    "- 稳定性\n",
    "    - 副作用\n",
    "    - 异常数据\n",
    "        - 数据为空\n",
    "        - 数据大小不匹配\n",
    "        - 数据类型不匹配\n",
    "        - 数据错误\n",
    "    - 异常环境\n",
    "        - 变量冲突\n",
    "- 性能\n",
    "    - 访问可变参数频率/重复性\n",
    "\n"
   ]
  },
  {
   "cell_type": "markdown",
   "metadata": {},
   "source": [
    "# 函数式编程：无副作用（pure function）\n",
    "## 列表推导（list comprehension）\n",
    "## 映射（map），操作（do）\n",
    "## 过滤（filter），取出（take）\n",
    "## 递归（recursion）、尾递归（tail recursion）与Y组合子（Y combinator）\n",
    "## 为什么Julia没有内置惰性求值（lazy evaluation）？\n",
    "## 折叠（fold）与|>管道（pipe）\n",
    "### Julia需要curry吗？\n"
   ]
  },
  {
   "cell_type": "markdown",
   "metadata": {},
   "source": [
    "# 数据结构（struct）与类型（type）\n",
    "## 数据结构（struct）\n",
    "### 具名结构(@kwdef)\n",
    "- `@kwdef struct`宏\n",
    "```julia\n",
    "Base.@kwdef struct Paper\n",
    "color::Symbol=:white\n",
    "text::String\n",
    "end\n",
    "Paper(;text=\"t\")\n",
    "```\n",
    "|名称\t|描述|\n",
    "|:---:|:---:|:---:|\n",
    "|fieldnames|\t获取复合类型的全部字段名（::Tuple{Symbol}）|\n",
    "|fieldname|\t获取复合类型的第 i 个字段名（::Symbol）|\n",
    "|fieldcount|获取复合类型的字段数|\n",
    "|fieldtypes|\t获取复合类型的全部字段类型|\n",
    "|fieldtype|\t获取复合类型的第 i 个字段类型|\n",
    "|fieldoffset|\t获取第 i 个字段相对于数据开头的偏移字节数|\n",
    "|dump|\t显示类型或其实例的信息|\n",
    "|getfield|\t获取指定字段数据 不是.|\n",
    "|setfield!|\t设置指定字段数据 不是.=|\n"
   ]
  },
  {
   "cell_type": "markdown",
   "metadata": {},
   "source": [
    "### 枚举（enum）\n",
    "### 数组（Array，Matrix，Vector）\n",
    "`append!`\n",
    ":函数拼接数组\n",
    "\n",
    "`sizehint!`\n",
    ":函数预分配内存\n",
    "- `Vector{T}(undef, n)`函数预分配内存\n",
    "- `in`函数检查元素是否在数组中\n",
    "- `deleteat!`函数删除数组中的元素\n",
    "- `sort!`函数排序数组\n",
    "- `sortperm`函数返回排序后的索引\n",
    "- `findall`函数返回满足条件的索引\n",
    "- `m[m:n]`函数返回数组的拷贝子数组\n",
    "- `@view`宏返回数组的视图(不拷贝)\n",
    "#### 堆（heap）与栈（stack）\n",
    "- `push!`与`pop!`函数推入、弹出数组尾部\n",
    "- `pushfirst!`与`popfirst!`函数推入、弹出数组首部\n",
    "### 字典（Dict）\n",
    "### 集合（Set）\n",
    "### 元组（Tuple）\n",
    "## 类型、抽象类型（abstract type）与参数化类型（parametric type）\n"
   ]
  },
  {
   "cell_type": "markdown",
   "metadata": {},
   "source": [
    "# 模块（module）与命名空间（namespace）的引入\n",
    "### 模块嵌套\n",
    "# 代码架构（architecture）\n",
    "## 模板方法（template method）\n",
    "## 流程引擎（workflow engine）\n",
    "## 依赖分层（dependency layering）\n",
    "## 代码重构（refactoring）与灰度发布（canary release）\n",
    "### 流程化的陷阱：是否过度设计（over designed）？\n",
    "- 代码不需要一开始无所不包，而是在开发过程中能随时拆分。\n",
    "## 谦卑对象（humble object）\n",
    "- 代码中难以测试的行为应当与容易测试的行为隔离，以便于测试。\n",
    "- 难以测试的行为应当拥有尽可能简单的逻辑。\n"
   ]
  },
  {
   "cell_type": "markdown",
   "metadata": {},
   "source": [
    "# 第三方包"
   ]
  },
  {
   "cell_type": "markdown",
   "metadata": {},
   "source": [
    "## Makie.jl"
   ]
  },
  {
   "cell_type": "markdown",
   "metadata": {},
   "source": [
    "### 在独立窗口中显示图形\n",
    "```julia\n",
    "display(Makie.Screen(), figure)\n",
    "```"
   ]
  },
  {
   "cell_type": "markdown",
   "metadata": {},
   "source": [
    "## MacroTools.jl"
   ]
  },
  {
   "cell_type": "markdown",
   "metadata": {},
   "source": [
    "### 模式匹配（pattern matching）\n",
    "```julia\n",
    "julia> @capture(:[1, 2, 3, 4, 5, 6, 7], [1, a_, 3, b__, c_])\n",
    "true\n",
    "\n",
    "julia> a, b, c\n",
    "(2,[4,5,6],7)\n",
    "```"
   ]
  },
  {
   "cell_type": "markdown",
   "metadata": {},
   "source": [
    "## Lazy.jl\n",
    "### 流式计算（streaming computation）\n",
    "```julia\n",
    "g(f(x,y), z) == @> x f(y) g(z)\n",
    "```"
   ]
  },
  {
   "cell_type": "markdown",
   "metadata": {},
   "source": [
    "# 宏（macro）\n",
    "## 内置宏（built-in macro）\n",
    "- [`Base.@kwdef`](#具名结构kwdef)\n",
    "- `@assert`\n",
    "- `@which`\n",
    "- `@show`, `@debug`, `@info`, `@warn`, `@error`\n",
    "- `@time`, `@elapsed`, `@allocated`\n",
    "- `using Test`, `@testset`, `@test`\n",
    "- `using Profile`, `@profile`\n"
   ]
  },
  {
   "cell_type": "markdown",
   "metadata": {},
   "source": [
    "# shell、REPL 环境\n",
    "# 标准库"
   ]
  }
 ],
 "metadata": {
  "language_info": {
   "name": "python"
  }
 },
 "nbformat": 4,
 "nbformat_minor": 2
}
